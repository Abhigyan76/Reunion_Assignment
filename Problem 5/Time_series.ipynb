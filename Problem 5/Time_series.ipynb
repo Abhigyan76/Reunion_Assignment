{
 "cells": [
  {
   "cell_type": "code",
   "execution_count": 1,
   "metadata": {},
   "outputs": [],
   "source": [
    "import pandas as pd\n",
    "import numpy as np\n",
    "from sqlalchemy import create_engine"
   ]
  },
  {
   "cell_type": "code",
   "execution_count": 2,
   "metadata": {},
   "outputs": [],
   "source": [
    "df = pd.read_excel('Time Series.xlsx')"
   ]
  },
  {
   "cell_type": "code",
   "execution_count": 3,
   "metadata": {},
   "outputs": [],
   "source": [
    "df.sort_values('Start', inplace=True)\n"
   ]
  },
  {
   "cell_type": "code",
   "execution_count": 4,
   "metadata": {},
   "outputs": [],
   "source": [
    "# Perform transformations\n",
    "output_data = []\n",
    "current_bot = None\n",
    "current_start = None\n",
    "current_end = None\n",
    "current_activities = []\n",
    "for index, row in df.iterrows():\n",
    "    bot = row['Name']\n",
    "    start = row['Start']\n",
    "    end = row['End']\n",
    "    activity = row['Activity']\n",
    "    \n",
    "    if bot == current_bot:\n",
    "        if start <= current_end:\n",
    "            current_end = max(current_end, end)\n",
    "            current_activities.append(activity)\n",
    "        else:\n",
    "            output_data.append([current_bot, current_start, current_end, current_activities])\n",
    "            current_start = start\n",
    "            current_end = end\n",
    "            current_activities = [activity]\n",
    "    else:\n",
    "        if current_bot is not None:\n",
    "            output_data.append([current_bot, current_start, current_end, current_activities])\n",
    "        current_bot = bot\n",
    "        current_start = start\n",
    "        current_end = end\n",
    "        current_activities = [activity]"
   ]
  },
  {
   "cell_type": "code",
   "execution_count": 5,
   "metadata": {},
   "outputs": [],
   "source": [
    "output_df = pd.DataFrame(output_data, columns=['Bot Name', 'Start', 'End', 'Activities']) #Creating a new DataFrame with transformed data"
   ]
  },
  {
   "cell_type": "code",
   "execution_count": 6,
   "metadata": {},
   "outputs": [],
   "source": [
    "# Exporting the transformed data to a new Excel file\n",
    "output_df.to_excel('BotActivity.xlsx', index=False)"
   ]
  },
  {
   "cell_type": "code",
   "execution_count": null,
   "metadata": {},
   "outputs": [],
   "source": []
  }
 ],
 "metadata": {
  "kernelspec": {
   "display_name": "Python 3",
   "language": "python",
   "name": "python3"
  },
  "language_info": {
   "codemirror_mode": {
    "name": "ipython",
    "version": 3
   },
   "file_extension": ".py",
   "mimetype": "text/x-python",
   "name": "python",
   "nbconvert_exporter": "python",
   "pygments_lexer": "ipython3",
   "version": "3.10.6"
  }
 },
 "nbformat": 4,
 "nbformat_minor": 2
}
